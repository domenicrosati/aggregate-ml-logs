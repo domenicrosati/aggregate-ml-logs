{
 "cells": [
  {
   "cell_type": "markdown",
   "metadata": {},
   "source": [
    "# EDA and Modeling of vm traces dataset\n",
    "\n",
    "This notebook explores and models the relationship between network throughput and memory usage in a large vm dataset collected from a distributed datacenter from Bitbrains, which is a service provider that specializes in managed hosting and business computation for enterprises. [See here](http://gwa.ewi.tudelft.nl/datasets/gwa-t-12-bitbrains)"
   ]
  },
  {
   "cell_type": "code",
   "execution_count": 1,
   "metadata": {},
   "outputs": [
    {
     "name": "stderr",
     "output_type": "stream",
     "text": [
      "/Users/domenicrosati/.pyenv/versions/3.6.4/lib/python3.6/importlib/_bootstrap.py:219: RuntimeWarning: numpy.dtype size changed, may indicate binary incompatibility. Expected 96, got 88\n",
      "  return f(*args, **kwds)\n"
     ]
    }
   ],
   "source": [
    "import matplotlib.pyplot as plt\n",
    "import os\n",
    "import pandas as pd\n",
    "VMS = 10"
   ]
  },
  {
   "cell_type": "code",
   "execution_count": 2,
   "metadata": {},
   "outputs": [],
   "source": [
    "import logging\n",
    "import timber\n",
    "\n",
    "logging.basicConfig(level=logging.INFO)\n",
    "logger = logging.getLogger(__name__)\n",
    "\n",
    "timber_handler = timber.TimberHandler(api_key=os.getenv('TIMBER_API_KEY'), level=logging.INFO)\n",
    "logger.addHandler(timber_handler)"
   ]
  },
  {
   "cell_type": "markdown",
   "metadata": {},
   "source": [
    "## Load and preprocess traces dataset"
   ]
  },
  {
   "cell_type": "code",
   "execution_count": 3,
   "metadata": {},
   "outputs": [
    {
     "name": "stderr",
     "output_type": "stream",
     "text": [
      "/Users/domenicrosati/.pyenv/versions/3.6.4/lib/python3.6/site-packages/ipykernel_launcher.py:3: ParserWarning: Falling back to the 'python' engine because the 'c' engine does not support regex separators (separators > 1 char and different from '\\s+' are interpreted as regex); you can avoid this warning by specifying engine='python'.\n",
      "  This is separate from the ipykernel package so we can avoid doing imports until\n"
     ]
    },
    {
     "data": {
      "text/plain": [
       "<matplotlib.axes._subplots.AxesSubplot at 0x11f17b0f0>"
      ]
     },
     "execution_count": 3,
     "metadata": {},
     "output_type": "execute_result"
    },
    {
     "data": {
      "image/png": "[encoded data removed]",
      "text/plain": [
       "<Figure size 432x288 with 1 Axes>"
      ]
     },
     "metadata": {},
     "output_type": "display_data"
    }
   ],
   "source": [
    "trace_dfs = [\n",
    "    pd.read_csv(os.path.join('..', 'data', 'traces', trace_path), delimiter=';\\t')\n",
    "    for trace_path in os.listdir(os.path.join('..', 'data', 'traces'))[:VMS]\n",
    "]\n",
    "\n",
    "trace = pd.concat(trace_dfs)\n",
    "\n",
    "trace['Total network throughput [KB/s]'] = trace['Network received throughput [KB/s]'].add(trace['Network transmitted throughput [KB/s]'])\n",
    "trace.plot.scatter('Memory usage [KB]', 'Total network throughput [KB/s]')"
   ]
  },
  {
   "cell_type": "markdown",
   "metadata": {},
   "source": [
    "## Train a RandomForestRegressor Model from Scikit Learn"
   ]
  },
  {
   "cell_type": "code",
   "execution_count": null,
   "metadata": {},
   "outputs": [
    {
     "name": "stderr",
     "output_type": "stream",
     "text": [
      "/Users/domenicrosati/.pyenv/versions/3.6.4/lib/python3.6/site-packages/sklearn/ensemble/weight_boosting.py:29: DeprecationWarning: numpy.core.umath_tests is an internal NumPy module and should not be imported. It will be removed in a future NumPy release.\n",
      "  from numpy.core.umath_tests import inner1d\n",
      "INFO:__main__:Random Forest Regressor\n"
     ]
    }
   ],
   "source": [
    "from sklearn.ensemble import RandomForestRegressor\n",
    "\n",
    "logger.info('Random Forest Regressor')\n",
    "regressor = RandomForestRegressor(max_depth=10, random_state=1)\n",
    "regressor.fit([[t] for t in trace['Memory usage [KB]']], trace['Total network throughput [KB/s]'].values)\n",
    "\n",
    "trace['Predictions'] = pd.Series([regressor.predict([[t]])[0] for t in trace['Memory usage [KB]']])\n",
    "trace.plot.scatter('Memory usage [KB]', 'Predictions')\n",
    "logger.info('Random Forest Regressors score was: {}'.format(regressor.score([[t] for t in trace['Memory usage [KB]']], trace['Total network throughput [KB/s]'].values)))"
   ]
  },
  {
   "cell_type": "markdown",
   "metadata": {},
   "source": [
    "## Normalize data for neural networks and split for train/test"
   ]
  },
  {
   "cell_type": "code",
   "execution_count": null,
   "metadata": {},
   "outputs": [],
   "source": [
    "from sklearn.preprocessing import StandardScaler\n",
    "sc = StandardScaler()\n",
    "x = sc.fit_transform(trace['Memory usage [KB]'].values.reshape(-1, 1))\n",
    "y = sc.fit_transform(trace['Total network throughput [KB/s]'].values.reshape(-1, 1))\n",
    "x_train = x[:int(len(x)/2)]\n",
    "y_train = y[:int(len(y)/2)]\n",
    "x_test = x[int(len(x)/2):]\n",
    "y_test = y[int(len(y)/2):]"
   ]
  },
  {
   "cell_type": "markdown",
   "metadata": {},
   "source": [
    "## Train simple NN in Keras"
   ]
  },
  {
   "cell_type": "code",
   "execution_count": null,
   "metadata": {},
   "outputs": [],
   "source": [
    "from keras.models import Sequential\n",
    "from keras.layers import Dense, Dropout\n",
    "\n",
    "logger.info('Simple Keras NN')\n",
    "model = Sequential()\n",
    "model.add(Dense(1, kernel_initializer='normal'))\n",
    "model.add(Dense(1, kernel_initializer='normal'))\n",
    "model.compile(loss='mse', optimizer='adam', metrics=['accuracy'])\n",
    "for step in range(10000):\n",
    "    cost = model.train_on_batch(x_train, y_train)\n",
    "\n",
    "score, acc = model.evaluate(x_test, y_test)\n",
    "logger.info('Simple Keras NN: Test score: {}'.format(score))\n",
    "logger.info('Simple Ketas NN: Test accuracy: {}'.format(acc))\n",
    "y_pred = model.predict(x_test)\n",
    "plt.scatter(x_test, y_test)\n",
    "plt.plot(x_test, y_pred)\n",
    "plt.show()"
   ]
  },
  {
   "cell_type": "markdown",
   "metadata": {},
   "source": [
    "## Train Simple Linear Regressor Model in Tensorflow"
   ]
  },
  {
   "cell_type": "code",
   "execution_count": null,
   "metadata": {},
   "outputs": [],
   "source": [
    "import tensorflow as tf\n",
    "\n",
    "logger.info('TF Estimator Linear Regressor')\n",
    "memory_col = tf.feature_column.numeric_column('memory')\n",
    "estimator = tf.estimator.LinearRegressor(feature_columns=[memory_col])\n",
    "\n",
    "# create training input function\n",
    "training_input_fn = tf.estimator.inputs.numpy_input_fn(x={'memory': x_train},\n",
    "                                                    y=y_train,\n",
    "                                                    batch_size=32,\n",
    "                                                    shuffle=False,\n",
    "                                                    num_epochs=1)\n",
    "\n",
    "# create testing input function\n",
    "eval_input_fn = tf.estimator.inputs.numpy_input_fn(x={'memory': x_test},\n",
    "                                                    y=y_test,\n",
    "                                                    batch_size=32,\n",
    "                                                    shuffle=False,\n",
    "                                                    num_epochs=1)\n",
    "estimator.train(training_input_fn, steps=2000)\n",
    "\n",
    "pred = list(estimator.predict(input_fn = eval_input_fn))\n",
    "pred = [p['predictions'][0] for p in pred]\n",
    "\n",
    "logger.info('TF Estimator sores were {}'.format(estimator.evaluate(input_fn = eval_input_fn)))\n",
    "y_pred = pred\n",
    "plt.scatter(x_test, y_test)\n",
    "plt.plot(x_test, y_pred)\n",
    "plt.show()"
   ]
  }
 ],
 "metadata": {
  "kernelspec": {
   "display_name": "Python 3",
   "language": "python",
   "name": "python3"
  },
  "language_info": {
   "codemirror_mode": {
    "name": "ipython",
    "version": 3
   },
   "file_extension": ".py",
   "mimetype": "text/x-python",
   "name": "python",
   "nbconvert_exporter": "python",
   "pygments_lexer": "ipython3",
   "version": "3.6.4"
  }
 },
 "nbformat": 4,
 "nbformat_minor": 2
}
